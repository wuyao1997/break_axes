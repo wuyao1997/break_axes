{
 "cells": [
  {
   "cell_type": "markdown",
   "id": "b2f4e7c5",
   "metadata": {},
   "source": [
    "# Heat Capacity of Ice and Water"
   ]
  },
  {
   "cell_type": "code",
   "execution_count": null,
   "id": "d9922af3",
   "metadata": {},
   "outputs": [],
   "source": [
    "import matplotlib.pyplot as plt\n",
    "\n",
    "from break_axes import __version__, scale_axes, broken_and_clip_axes\n",
    "\n",
    "print(f\"break_axes version: {__version__}\")\n",
    "\n",
    "# temperature and heat capacity data\n",
    "data = [\n",
    "    [-100, 1389],\n",
    "    [-80, 1536],\n",
    "    [-60, 1681],\n",
    "    [-40, 1818],\n",
    "    [-20, 1943],  # ice\n",
    "    [0, 2050],    # water \n",
    "    [1, 4225],\n",
    "    [5, 4215],\n",
    "    [10, 4205],\n",
    "    [15, 4197],\n",
    "    [20, 4190],\n",
    "    [25, 4185],\n",
    "    [30, 4181],\n",
    "    [35, 4178],\n",
    "    [40, 4177],\n",
    "    [45, 4176],\n",
    "    [50, 4177],\n",
    "]\n",
    "\n",
    "t = [x[0] for x in data]\n",
    "cp = [x[1] for x in data]"
   ]
  },
  {
   "cell_type": "markdown",
   "id": "4a0e2023",
   "metadata": {},
   "source": [
    "## No Broken Axes"
   ]
  },
  {
   "cell_type": "code",
   "execution_count": null,
   "id": "4cd75e0e",
   "metadata": {},
   "outputs": [],
   "source": [
    "fig, ax = plt.subplots(figsize=(6, 3))\n",
    "ax.set(\n",
    "    xlim=(-110, 55), ylim=(1250, 4500),\n",
    "    xlabel=r'Temperature ($^\\circ$C)',\n",
    "    ylabel=r\"Heat Capacity (J/kg·$^\\circ$C)\",\n",
    "    title=r\"Heat Capacity of Ice and Water\",\n",
    "    facecolor=\"#EEEEEE\",\n",
    ")\n",
    "\n",
    "line, = ax.plot(t, cp, \"o-\", color=\"C1\", mec='gray', mew=1.2)\n",
    "\n",
    "ax.set_xticks([-100 + i*20 for i in range(8)])\n",
    "ax.set_yticks([1500 + i*500 for i in range(7)])\n",
    "ax.grid(linestyle=\":\")\n",
    "ax.axvspan(-110, 0, facecolor=\"w\", edgecolor=\"none\", zorder=-1)\n",
    "ax.axvspan(0, 55, facecolor=\"#C5F5F8\", edgecolor=\"none\", zorder=-1)\n",
    "\n",
    "# https://icons8.com/icon/cv69cLhUJ64O/ice\n",
    "ice_img = plt.imread(\"icon/ice.png\") \n",
    "ice_ax = fig.add_axes((0.2, 0.5, 0.3, 0.3))\n",
    "ice_ax.imshow(ice_img)\n",
    "ice_ax.axis(\"off\")\n",
    "\n",
    "# https://icons8.com/icon/aPYNUHPT8Z7R/water\n",
    "water_img = plt.imread(\"icon/water.png\")\n",
    "water_ax = fig.add_axes((0.62, 0.2, 0.3, 0.3))\n",
    "water_ax.imshow(water_img)\n",
    "water_ax.axis(\"off\")"
   ]
  },
  {
   "cell_type": "markdown",
   "id": "4bd0ea70",
   "metadata": {},
   "source": [
    "## Broken Axes"
   ]
  },
  {
   "cell_type": "code",
   "execution_count": null,
   "id": "1bf9e577",
   "metadata": {},
   "outputs": [],
   "source": [
    "fig, ax = plt.subplots(figsize=(6, 3))\n",
    "ax.set(\n",
    "    xlim=(-110, 55),\n",
    "    ylim=(1350, 4250),\n",
    "    xlabel=r'Temperature ($^\\circ$C)',\n",
    "    ylabel=r\"Heat Capacity (J/kg·$^\\circ$C)\",\n",
    "    title=r\"Heat Capacity of Ice and Water\",\n",
    "    facecolor=\"#EEEEEE\",\n",
    ")\n",
    "\n",
    "line, = ax.plot(t, cp, \"o-\", color=\"C1\", mec='gray', mew=1.2)\n",
    "line.set_clip_on(False)\n",
    "\n",
    "scale_axes(ax, x_interval=[(0,50,4)], y_interval=[(2100,4150,0.1), (4150, 4250, 10)])\n",
    "broken_and_clip_axes(ax, y=[3100])\n",
    "\n",
    "ax.set_xticks([-100+20*i for i in range(6)] + [1] + [5+i*5 for i in range(10)])\n",
    "ax.set_yticks([1400+200*i for i in range(4)] + [4160+20*i for i in range(5)])\n",
    "ax.grid(linestyle=\":\")\n",
    "ax.axvspan(-110, 0, facecolor=\"w\", edgecolor=\"none\", zorder=-1)\n",
    "ax.axvspan(0, 55, facecolor=\"#C5F5F8\", edgecolor=\"none\", zorder=-1)\n",
    "\n",
    "# https://icons8.com/icon/cv69cLhUJ64O/ice\n",
    "ice_img = plt.imread(\"icon/ice.png\")\n",
    "ice_ax = fig.add_axes((0.1, 0.5, 0.3, 0.3))\n",
    "ice_ax.imshow(ice_img)\n",
    "ice_ax.axis(\"off\")\n",
    "\n",
    "# https://icons8.com/icon/aPYNUHPT8Z7R/water\n",
    "water_img = plt.imread(\"icon/water.png\")\n",
    "water_ax = fig.add_axes((0.5, 0.2, 0.3, 0.3))\n",
    "water_ax.imshow(water_img)\n",
    "water_ax.axis(\"off\")\n",
    "\n",
    "plt.savefig(\"../image/heatcapacity_of_ice_and_water.png\", transparent=False)"
   ]
  }
 ],
 "metadata": {
  "kernelspec": {
   "display_name": "Python 3",
   "language": "python",
   "name": "python3"
  },
  "language_info": {
   "codemirror_mode": {
    "name": "ipython",
    "version": 3
   },
   "file_extension": ".py",
   "mimetype": "text/x-python",
   "name": "python",
   "nbconvert_exporter": "python",
   "pygments_lexer": "ipython3",
   "version": "3.13.2"
  }
 },
 "nbformat": 4,
 "nbformat_minor": 5
}
